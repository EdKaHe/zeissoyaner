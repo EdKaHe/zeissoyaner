{
 "cells": [
  {
   "cell_type": "code",
   "execution_count": 9,
   "metadata": {},
   "outputs": [],
   "source": [
    "import pandas as pd\n",
    "import numpy as np"
   ]
  },
  {
   "cell_type": "code",
   "execution_count": 10,
   "metadata": {
    "scrolled": true
   },
   "outputs": [
    {
     "data": {
      "text/html": [
       "<div>\n",
       "<style scoped>\n",
       "    .dataframe tbody tr th:only-of-type {\n",
       "        vertical-align: middle;\n",
       "    }\n",
       "\n",
       "    .dataframe tbody tr th {\n",
       "        vertical-align: top;\n",
       "    }\n",
       "\n",
       "    .dataframe thead th {\n",
       "        text-align: right;\n",
       "    }\n",
       "</style>\n",
       "<table border=\"1\" class=\"dataframe\">\n",
       "  <thead>\n",
       "    <tr style=\"text-align: right;\">\n",
       "      <th></th>\n",
       "      <th>x_pre</th>\n",
       "      <th>x_post</th>\n",
       "      <th>y_pre</th>\n",
       "      <th>y_post</th>\n",
       "      <th>r_pre</th>\n",
       "      <th>r_post</th>\n",
       "      <th>sz_pre</th>\n",
       "      <th>sz_post</th>\n",
       "    </tr>\n",
       "  </thead>\n",
       "  <tbody>\n",
       "    <tr>\n",
       "      <th>8</th>\n",
       "      <td>114.5</td>\n",
       "      <td>158.5</td>\n",
       "      <td>753.5</td>\n",
       "      <td>759.5</td>\n",
       "      <td>6.900000</td>\n",
       "      <td>6.900000</td>\n",
       "      <td>0.0</td>\n",
       "      <td>0.0</td>\n",
       "    </tr>\n",
       "    <tr>\n",
       "      <th>9</th>\n",
       "      <td>249.5</td>\n",
       "      <td>249.5</td>\n",
       "      <td>754.5</td>\n",
       "      <td>760.5</td>\n",
       "      <td>6.900000</td>\n",
       "      <td>6.200000</td>\n",
       "      <td>0.0</td>\n",
       "      <td>0.0</td>\n",
       "    </tr>\n",
       "    <tr>\n",
       "      <th>10</th>\n",
       "      <td>475.5</td>\n",
       "      <td>475.5</td>\n",
       "      <td>755.5</td>\n",
       "      <td>761.5</td>\n",
       "      <td>6.900000</td>\n",
       "      <td>6.200000</td>\n",
       "      <td>0.0</td>\n",
       "      <td>0.0</td>\n",
       "    </tr>\n",
       "    <tr>\n",
       "      <th>11</th>\n",
       "      <td>430.5</td>\n",
       "      <td>429.5</td>\n",
       "      <td>755.5</td>\n",
       "      <td>760.5</td>\n",
       "      <td>22.900000</td>\n",
       "      <td>21.799999</td>\n",
       "      <td>1.0</td>\n",
       "      <td>1.0</td>\n",
       "    </tr>\n",
       "    <tr>\n",
       "      <th>12</th>\n",
       "      <td>204.5</td>\n",
       "      <td>203.5</td>\n",
       "      <td>754.5</td>\n",
       "      <td>759.5</td>\n",
       "      <td>22.700001</td>\n",
       "      <td>21.799999</td>\n",
       "      <td>1.0</td>\n",
       "      <td>1.0</td>\n",
       "    </tr>\n",
       "  </tbody>\n",
       "</table>\n",
       "</div>"
      ],
      "text/plain": [
       "    x_pre  x_post  y_pre  y_post      r_pre     r_post  sz_pre  sz_post\n",
       "8   114.5   158.5  753.5   759.5   6.900000   6.900000     0.0      0.0\n",
       "9   249.5   249.5  754.5   760.5   6.900000   6.200000     0.0      0.0\n",
       "10  475.5   475.5  755.5   761.5   6.900000   6.200000     0.0      0.0\n",
       "11  430.5   429.5  755.5   760.5  22.900000  21.799999     1.0      1.0\n",
       "12  204.5   203.5  754.5   759.5  22.700001  21.799999     1.0      1.0"
      ]
     },
     "execution_count": 10,
     "metadata": {},
     "output_type": "execute_result"
    }
   ],
   "source": [
    "#import a csv with pre nd post coordinates of the markers\n",
    "df = pd.read_csv(\"360274_R.csv\", sep = \";\")\n",
    "df.tail()"
   ]
  },
  {
   "cell_type": "code",
   "execution_count": 11,
   "metadata": {},
   "outputs": [
    {
     "data": {
      "text/html": [
       "<div>\n",
       "<style scoped>\n",
       "    .dataframe tbody tr th:only-of-type {\n",
       "        vertical-align: middle;\n",
       "    }\n",
       "\n",
       "    .dataframe tbody tr th {\n",
       "        vertical-align: top;\n",
       "    }\n",
       "\n",
       "    .dataframe thead th {\n",
       "        text-align: right;\n",
       "    }\n",
       "</style>\n",
       "<table border=\"1\" class=\"dataframe\">\n",
       "  <thead>\n",
       "    <tr style=\"text-align: right;\">\n",
       "      <th></th>\n",
       "      <th>x_pre</th>\n",
       "      <th>x_post</th>\n",
       "      <th>y_pre</th>\n",
       "      <th>y_post</th>\n",
       "      <th>r_pre</th>\n",
       "      <th>r_post</th>\n",
       "      <th>sz_pre</th>\n",
       "      <th>sz_post</th>\n",
       "    </tr>\n",
       "  </thead>\n",
       "  <tbody>\n",
       "    <tr>\n",
       "      <th>11</th>\n",
       "      <td>430.5</td>\n",
       "      <td>429.5</td>\n",
       "      <td>755.5</td>\n",
       "      <td>760.5</td>\n",
       "      <td>22.900000</td>\n",
       "      <td>21.799999</td>\n",
       "      <td>1.0</td>\n",
       "      <td>1.0</td>\n",
       "    </tr>\n",
       "    <tr>\n",
       "      <th>12</th>\n",
       "      <td>204.5</td>\n",
       "      <td>203.5</td>\n",
       "      <td>754.5</td>\n",
       "      <td>759.5</td>\n",
       "      <td>22.700001</td>\n",
       "      <td>21.799999</td>\n",
       "      <td>1.0</td>\n",
       "      <td>1.0</td>\n",
       "    </tr>\n",
       "  </tbody>\n",
       "</table>\n",
       "</div>"
      ],
      "text/plain": [
       "    x_pre  x_post  y_pre  y_post      r_pre     r_post  sz_pre  sz_post\n",
       "11  430.5   429.5  755.5   760.5  22.900000  21.799999     1.0      1.0\n",
       "12  204.5   203.5  754.5   759.5  22.700001  21.799999     1.0      1.0"
      ]
     },
     "execution_count": 11,
     "metadata": {},
     "output_type": "execute_result"
    }
   ],
   "source": [
    "#get the major marker\n",
    "major = df[df[\"sz_pre\"] == 1]\n",
    "major"
   ]
  },
  {
   "cell_type": "code",
   "execution_count": 18,
   "metadata": {
    "scrolled": true
   },
   "outputs": [
    {
     "name": "stdout",
     "output_type": "stream",
     "text": [
      "1.0\n",
      "-5.0\n"
     ]
    }
   ],
   "source": [
    "#get the shift of the pre and post\n",
    "dx = (major[\"x_pre\"] - major[\"x_post\"])\n",
    "dy = (major[\"y_pre\"] - major[\"y_post\"])\n",
    "\n",
    "print(dx)\n",
    "print(dy)"
   ]
  },
  {
   "cell_type": "code",
   "execution_count": null,
   "metadata": {},
   "outputs": [],
   "source": []
  }
 ],
 "metadata": {
  "kernelspec": {
   "display_name": "Python 3",
   "language": "python",
   "name": "python3"
  },
  "language_info": {
   "codemirror_mode": {
    "name": "ipython",
    "version": 3
   },
   "file_extension": ".py",
   "mimetype": "text/x-python",
   "name": "python",
   "nbconvert_exporter": "python",
   "pygments_lexer": "ipython3",
   "version": "3.6.7"
  }
 },
 "nbformat": 4,
 "nbformat_minor": 2
}
